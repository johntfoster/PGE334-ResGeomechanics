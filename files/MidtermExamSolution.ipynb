{
 "metadata": {
  "name": "",
  "signature": "sha256:c51186eab2ecd0f5de95dd1c62cd91426afc9d429f57fb539787e5f5e60952ee"
 },
 "nbformat": 3,
 "nbformat_minor": 0,
 "worksheets": [
  {
   "cells": [
    {
     "cell_type": "markdown",
     "metadata": {},
     "source": [
      "#PGE383 - Advanced Geomechanics - Midterm Exam\n",
      "\n",
      "**Instructions:** This exam will be assigned at 9:30 AM Thursday, 10/16 via [Canvas](https://utexas.instructure.com/courses/1119539) and is due by 5:00 PM Friday, 10/17. The test can be turned in by hand-delivering the completed exam to Mr. James O'Grady who is located CPE 3.104.  He will likely be in this office all day, but has been instructed to be certain to be available between 3:00 and 5:00 PM on Friday, 10/17. Alternatively, you can scan your exam worksheets and submit the exam on the course Canvas site by 5:00 PM on 10/17 (prefered).\n",
      "\n",
      "You are allowed any resource (e.g. books, notes, web) to complete the exam except consultation with another student or professor. You are reminded of the [UT Student Honor Code](http://www.utexas.edu/about-ut/mission-core-purpose-honor-code), violations of academic integrity with be [reported](http://deanofstudents.utexas.edu/sjs/acadint_reportingprocedures.php)."
     ]
    },
    {
     "cell_type": "markdown",
     "metadata": {},
     "source": [
      "## Problem 1\n",
      "\n",
      "Derive the formula for the rate-of-Lagrange-strain, $\\frac{D\\mathbf{E}}{Dt}$, in terms of the of the deformation gradient $\\mathbf{F}$ and the rate-of-deformation tensor $\\mathbf{D}$\n",
      "\n",
      "**Hint**:  Recall the original derivation of the Lagrange strain\n",
      "\n",
      "$$\n",
      "(ds)^2 - (dS)^2 = d\\mathbf{X}^T (2 \\mathbf{E}) d\\mathbf{X}\n",
      "$$"
     ]
    },
    {
     "cell_type": "markdown",
     "metadata": {},
     "source": [
      "**Solution**\n",
      "\n",
      "Taking the time derivative of both sides of the equation, keeping in mind that $dS$ and $d\\mathbf{X}$ are both in the reference configuration and therefore do not change with time, we have\n",
      "\n",
      "$$\n",
      "\\frac{d}{dt}(ds)^2 = 2 d\\mathbf{X}^T \\frac{d}{dt}(\\mathbf{E}) d\\mathbf{X}.\n",
      "$$\n",
      "\n",
      "Reviewing the class notes where we derived the rate-of-deformation tensor $\\mathbf{D}$, we had\n",
      "\n",
      "$$\n",
      "\\frac{d}{dt}(ds)^2 = 2 d\\mathbf{x}^T \\mathbf{D} d\\mathbf{x},\n",
      "$$\n",
      "\n",
      "and we know that $d\\mathbf{x} = \\mathbf{F}d\\mathbf{X}$, so\n",
      "\n",
      "\n",
      "\\begin{align}\n",
      "\\frac{d}{dt}(ds)^2 &= 2 d\\mathbf{x}^T \\mathbf{D} d\\mathbf{x}, \\\\\n",
      "                   &= 2 (\\mathbf{F}d\\mathbf{X})^T \\mathbf{D} \\mathbf{F}d\\mathbf{X}, \\\\\n",
      "                   &= 2 d\\mathbf{X}^T \\mathbf{F}^T \\mathbf{D} \\mathbf{F}d\\mathbf{X}.\n",
      "\\end{align}\n",
      "\n",
      "Comparing this last expression to the one above, we can immediatly see that\n",
      "\n",
      "$$\n",
      "\\frac{d}{dt}(\\mathbf{E}) = \\mathbf{F}^T \\mathbf{D F}\n",
      "$$"
     ]
    },
    {
     "cell_type": "markdown",
     "metadata": {},
     "source": [
      "## Problem 2\n",
      "\n",
      "If the Lagrangian strain components at a point are as shown\n",
      "\n",
      "$$\n",
      "\\mathbf{E} = \n",
      "\\begin{bmatrix}\n",
      "-1 & 0 & 0 \\\\\n",
      " 0 & 1.84 & -0.28 \\\\\n",
      " 0 & -0.28 & 1.84\n",
      "\\end{bmatrix}\n",
      "$$\n",
      "\n",
      "Compute:\n",
      "\n",
      "1. the principle strains\n",
      "\n",
      "2. the maximum shear strain component"
     ]
    },
    {
     "cell_type": "markdown",
     "metadata": {},
     "source": [
      "**Solution**\n",
      "\n",
      "1. We need to simply solve an eigenvalue problem."
     ]
    },
    {
     "cell_type": "code",
     "collapsed": false,
     "input": [
      "import numpy as np\n",
      "import numpy.linalg\n",
      "\n",
      "\n",
      "w, v = np.linalg.eig(np.array([[-1., 0., 0.], [0., 1.84, -0.28], [0., -0.28, 1.84]]));\n",
      "w"
     ],
     "language": "python",
     "metadata": {},
     "outputs": [
      {
       "metadata": {},
       "output_type": "pyout",
       "prompt_number": 18,
       "text": [
        "array([ 2.12,  1.56, -1.  ])"
       ]
      }
     ],
     "prompt_number": 18
    },
    {
     "cell_type": "markdown",
     "metadata": {},
     "source": [
      "The maximum shear strain is one-half the difference between the maximum and minumum principle strains (from Mohr's circles)"
     ]
    },
    {
     "cell_type": "code",
     "collapsed": false,
     "input": [
      "Emax = 0.5 * (w[0] - w[2]); Emax"
     ],
     "language": "python",
     "metadata": {},
     "outputs": [
      {
       "metadata": {},
       "output_type": "pyout",
       "prompt_number": 9,
       "text": [
        "1.5600000000000001"
       ]
      }
     ],
     "prompt_number": 9
    },
    {
     "cell_type": "markdown",
     "metadata": {},
     "source": [
      "## Problem 3\n",
      "\n",
      "For the stress tensor\n",
      "\n",
      "$$\n",
      "\\boldsymbol{\\sigma} =\n",
      "\\begin{bmatrix}\n",
      "2 & 0 & 4 \\\\\n",
      "0 & 3 & 6 \\\\\n",
      "4 & 6 & 0\n",
      "\\end{bmatrix}\n",
      "$$\n",
      "\n",
      "find a direction $\\mathbf{\\hat{n}}$, such that the traction vector on a plane normal to $\\mathbf{\\hat{n}}$ has components $t_1 = t_2 = 0$, and determine $t_3$ on that plane."
     ]
    },
    {
     "cell_type": "markdown",
     "metadata": {},
     "source": [
      "**Solution**\n",
      "\n",
      "First we will solve for the unknown normal vector using the Cauchy stress equation, i.e. $\\vec{t} = \\sigma^T \\hat{n}$.  Where $\\vec{t}^T$ = [0 0 1], we can use 1 here in place of $t_3$ because any arbrary $t_3$ that appears in the solution, will cancel when dividing the solution by its norm to create the normal vector."
     ]
    },
    {
     "cell_type": "code",
     "collapsed": false,
     "input": [
      "sigma = np.array([[2., 0, 4],[0, 3, 6], [4, 6, 0]])\n",
      "#First compute the solution\n",
      "n = np.linalg.solve(sigma.T, np.array([0,0,1]))\n",
      "#Now divide by the norm to get a normal vector\n",
      "n_hat = n / np.linalg.norm(n); n_hat"
     ],
     "language": "python",
     "metadata": {},
     "outputs": [
      {
       "metadata": {},
       "output_type": "pyout",
       "prompt_number": 21,
       "text": [
        "array([ 0.66666667,  0.66666667, -0.33333333])"
       ]
      }
     ],
     "prompt_number": 21
    },
    {
     "cell_type": "markdown",
     "metadata": {},
     "source": [
      "Now can use this normal vector to determine $t_3$."
     ]
    },
    {
     "cell_type": "code",
     "collapsed": false,
     "input": [
      "np.dot(sigma.T, n_hat)"
     ],
     "language": "python",
     "metadata": {},
     "outputs": [
      {
       "metadata": {},
       "output_type": "pyout",
       "prompt_number": 22,
       "text": [
        "array([ -4.44089210e-16,   4.44089210e-16,   6.66666667e+00])"
       ]
      }
     ],
     "prompt_number": 22
    },
    {
     "cell_type": "markdown",
     "metadata": {},
     "source": [
      "So the final answers in rational form are\n",
      "\n",
      "$$\\hat{n}^T = \\left[ \\frac{2}{3}, \\frac{2}{3}, -\\frac{1}{3} \\right]$$\n",
      "\n",
      "and\n",
      "\n",
      "$$t_3 = \\frac{20}{3}$$"
     ]
    },
    {
     "cell_type": "markdown",
     "metadata": {},
     "source": [
      "## Problem 4\n",
      "\n",
      "Evaluate the second invariant of the *deviatoric* stress for the stress tensor\n",
      "\n",
      "$$\n",
      "\\boldsymbol{\\sigma} =\n",
      "\\begin{bmatrix}\n",
      "  2 & -1 & 1 \\\\\n",
      "  -1 & 0 & 1 \\\\\n",
      "  1 & 1 & 2\n",
      "\\end{bmatrix}\n",
      "$$"
     ]
    },
    {
     "cell_type": "markdown",
     "metadata": {},
     "source": [
      "**Solution**\n",
      "\n",
      "First we compute the deviatoric stress"
     ]
    },
    {
     "cell_type": "code",
     "collapsed": false,
     "input": [
      "sigma = np.array([[2., -1., 1.], [-1., 0., 1], [1., 1., 2.]])\n",
      "\n",
      "S = sigma - 1./3. * np.trace(sigma) * np.eye(3); S"
     ],
     "language": "python",
     "metadata": {},
     "outputs": [
      {
       "metadata": {},
       "output_type": "pyout",
       "prompt_number": 25,
       "text": [
        "array([[ 0.66666667, -1.        ,  1.        ],\n",
        "       [-1.        , -1.33333333,  1.        ],\n",
        "       [ 1.        ,  1.        ,  0.66666667]])"
       ]
      }
     ],
     "prompt_number": 25
    },
    {
     "cell_type": "markdown",
     "metadata": {},
     "source": [
      "Now we perform the summation\n",
      "\n",
      "$$\n",
      "J_2 = \\frac{1}{2} S_{ij} S_{ij}\n",
      "$$"
     ]
    },
    {
     "cell_type": "code",
     "collapsed": false,
     "input": [
      "J_2 = 0.0\n",
      "for i in range(3):\n",
      "    for j in range(3):\n",
      "        J_2 += 0.5 * S[i,j] * S[i, j]\n",
      "        \n",
      "J_2"
     ],
     "language": "python",
     "metadata": {},
     "outputs": [
      {
       "metadata": {},
       "output_type": "pyout",
       "prompt_number": 26,
       "text": [
        "4.333333333333333"
       ]
      }
     ],
     "prompt_number": 26
    },
    {
     "cell_type": "markdown",
     "metadata": {},
     "source": [
      "Or in rational form we have\n",
      "\n",
      "$$J_2 = \\frac{13}{3}$$"
     ]
    },
    {
     "cell_type": "markdown",
     "metadata": {},
     "source": [
      "## Problem 5\n",
      "\n",
      "Under what condition are these two statements equavalent\n",
      "\n",
      "$$ \\det({\\mathbf{F}}) = 1 $$ \n",
      "\n",
      "$$ \\frac{\\partial v_i}{\\partial x_j} = 0 $$\n",
      "\n",
      "Explain your answer."
     ]
    },
    {
     "cell_type": "markdown",
     "metadata": {},
     "source": [
      "**Solution**\n",
      "\n",
      "There was a typo in this problem in that I meant to show the divergence of $\\vec{v}$, i.e. $\\frac{\\partial v_i}{\\partial x_i} = 0$, and the correct answer to both conditions would be the *incompressibility* condition, from conservation of mass\n",
      "\n",
      "$$\n",
      "\\det(\\mathbf{F}) = 1 = \\frac{\\rho_o}{\\rho}\n",
      "$$\n",
      "\n",
      "The only way for this to be true is for the density not to change from the reference to the deformed configuration so that the deformation is *volume conserving*.  Because of the mistake, many of you arrived at the conclusion that the motion must be without rotation, or that the deformation gradient must be the identity matrix.  A counter example would be the case of\n",
      "\n",
      "$$\n",
      "\\mathbf{F} =\n",
      "\\begin{bmatrix}\n",
      "\\frac{1}{2} & 0 & 0 \\\\\n",
      "0 & 2 & 0 \\\\\n",
      "0 & 0 & 1 \\\\\n",
      "\\end{bmatrix}\n",
      "$$\n",
      "\n",
      "which would satisfy both conditions as written, but not be a rigid translation.  Full credit was given for stating *incompressible*, otherwise 5 pts where given for any attempt because of the typo."
     ]
    },
    {
     "cell_type": "markdown",
     "metadata": {},
     "source": [
      "## Problem 6\n",
      "\n",
      "Show that the *plane stress* equilibrium equations, in the absence of body forces, implies\n",
      "\n",
      "$$\n",
      "2 \\frac{\\partial\\sigma_{12}}{\\partial x_1 \\partial x_2} = -\\frac{\\partial^2 \\sigma_1}{\\partial x_1^2} -\\frac{\\partial^2 \\sigma_2}{\\partial x_2^2}\n",
      "$$"
     ]
    },
    {
     "cell_type": "markdown",
     "metadata": {},
     "source": [
      "**Solution**\n",
      "\n",
      "Starting with the momentum equations\n",
      "\n",
      "\\begin{align}\n",
      "    \\rho \\frac{\\partial^2 u_1}{\\partial t^2} &= \\frac{\\partial \\sigma_{11}}{\\partial x_1} + \\frac{\\partial \\sigma_{12}}{\\partial x_2} + \\frac{\\partial \\sigma_{13}}{\\partial x_3} + b_1 \\\\\n",
      "    \\rho \\frac{\\partial^2 u_2}{\\partial t^2} &= \\frac{\\partial \\sigma_{12}}{\\partial x_1} + \\frac{\\partial \\sigma_{22}}{\\partial x_2} + \\frac{\\partial \\sigma_{23}}{\\partial x_3} + b_2 \\\\\n",
      "    \\rho \\frac{\\partial^2 u_3}{\\partial t^2} &= \\frac{\\partial \\sigma_{31}}{\\partial x_1} + \\frac{\\partial \\sigma_{23}}{\\partial x_2} + \\frac{\\partial \\sigma_{33}}{\\partial x_3} + b_3\n",
      " \\end{align}\n",
      " \n",
      "Now we apply the equalibrium condition, i.e. $ \\rho \\frac{\\partial^2 \\vec{u}}{\\partial t^2} = 0$, the plane strain assumptions, i.e. $\\sigma_{33} = \\sigma_{13} = \\sigma_{23} = 0$ and exclude the body forces, we are left with.\n",
      "\n",
      "\\begin{align}\n",
      "    0 &= \\frac{\\partial \\sigma_{11}}{\\partial x_1} + \\frac{\\partial \\sigma_{12}}{\\partial x_2}  \\\\\n",
      "    0 &= \\frac{\\partial \\sigma_{12}}{\\partial x_1} + \\frac{\\partial \\sigma_{22}}{\\partial x_2}\n",
      " \\end{align}\n",
      " \n",
      "Now we differentiate the first equation w.r.t. $x_1$ and the second w.r.t $x_2$ we have \n",
      "\n",
      "\n",
      "\\begin{align}\n",
      "    0 &= \\frac{\\partial^2 \\sigma_{11}}{\\partial x_1^2} + \\frac{\\partial^2 \\sigma_{12}}{\\partial x_1 \\partial x_2}  \\\\\n",
      "    0 &= \\frac{\\partial^2 \\sigma_{12}}{\\partial x_1 \\partial x_2} + \\frac{\\partial^2 \\sigma_{22}}{\\partial x_2^2}\n",
      " \\end{align}\n",
      " \n",
      " Adding the two equations together and rearranging, we have the result\n",
      " \n",
      "$$\n",
      "2 \\frac{\\partial\\sigma_{12}}{\\partial x_1 \\partial x_2} = -\\frac{\\partial^2 \\sigma_1}{\\partial x_1^2} -\\frac{\\partial^2 \\sigma_2}{\\partial x_2^2}\n",
      "$$"
     ]
    },
    {
     "cell_type": "markdown",
     "metadata": {},
     "source": [
      "## Problem 7\n",
      "\n",
      "If a ductile material undergoing uniaxial stress, exhibits linear isotropic hardening, with hardening modulus $H$ and yield stress $Y$, write a von Mises yield function for this material as a function of these material constants and equivalent plastic strain $\\varepsilon^p$.\n",
      "\n",
      "**Solution**\n",
      "\n",
      "$$ f = \\sqrt{3 J_2} - Y - H \\varepsilon^p$$"
     ]
    }
   ],
   "metadata": {}
  }
 ]
}