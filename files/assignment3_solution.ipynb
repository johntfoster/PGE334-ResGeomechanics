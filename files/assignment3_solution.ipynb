{
 "metadata": {
  "name": "",
  "signature": "sha256:486c1e69a15e5e7182233abc5a8e93f3a222750ad2b20845d7de258f148c9bcb"
 },
 "nbformat": 3,
 "nbformat_minor": 0,
 "worksheets": [
  {
   "cells": [
    {
     "cell_type": "markdown",
     "metadata": {},
     "source": [
      "Homework Assignment 3\n",
      "=====================\n",
      "\n",
      "\n",
      "## Problem 1\n",
      "\n",
      "Derive the associated flow rule for a viscoplastic solid with rate-dependent with yield criterion given by\n",
      "\n",
      "$$\n",
      "\\sqrt{J_2} = k + \\eta \\left(2 \\dot{\\varepsilon}_{ij} \\dot{\\varepsilon}_{ij}\\right)^{\\frac{1}{2m}}\n",
      "$$\n",
      "\n",
      "**Solution**\n",
      "\n",
      "Using the scalar $S$ to represent the magnutide of deviatoric stress, i.e. $S = \\sqrt{S_{ij} S_{ij}}$, we can write the yield function as a scalar equation, using the associated flow rule $\\varepsilon_{ij} = \\lambda Q_{ij}$:\n",
      "\n",
      "\\begin{align}\n",
      "f &= \\frac{S}{\\sqrt{2}} - k - \\eta (\\lambda Q_{ij} \\lambda Q_{ij})^{\\frac{1}{2m}} \\\\\n",
      "  &= \\frac{S(t)}{\\sqrt{2}} - k - \\eta (\\lambda(t)^2)^{\\frac{1}{2m}}\n",
      "\\end{align}\n",
      "\n",
      "we can use sympy to evaluate the time derivative"
     ]
    },
    {
     "cell_type": "code",
     "collapsed": false,
     "input": [
      "from sympy import *\n",
      "from sympy.abc import eta, mu, epsilon\n",
      "init_printing()\n",
      "\n",
      "t, k, m, Y, C1, Qij, ep = symbols('t, k, m, Y, C_1, Q_{ij}, varepsilon^p_{ij}')\n",
      "S = Function('S')(t)\n",
      "lam = Function('lambda')(t)\n",
      "\n",
      "\n",
      "f = S / sqrt(2) - k - eta * (lam ** 2) ** (1 / (2 * m))\n",
      "eqn = Eq(f.diff(t).simplify(),0); eqn"
     ],
     "language": "python",
     "metadata": {},
     "outputs": [
      {
       "latex": [
        "$$- \\frac{\\eta \\left(\\lambda^{2}{\\left (t \\right )}\\right)^{\\frac{1}{2 m}}}{m \\lambda{\\left (t \\right )}} \\frac{d}{d t} \\lambda{\\left (t \\right )} + \\frac{\\sqrt{2}}{2} \\frac{d}{d t} S{\\left (t \\right )} = 0$$"
       ],
       "metadata": {},
       "output_type": "pyout",
       "png": "[encoded data removed]",
       "prompt_number": 1,
       "text": [
        "          1                               \n",
        "         \u2500\u2500\u2500                              \n",
        "         2\u22c5m                              \n",
        "     2       d            ___ d           \n",
        "  \u03b7\u22c5\u03bb (t)   \u22c5\u2500\u2500(\u03bb(t))   \u2572\u2571 2 \u22c5\u2500\u2500(S(t))    \n",
        "             dt               dt          \n",
        "- \u2500\u2500\u2500\u2500\u2500\u2500\u2500\u2500\u2500\u2500\u2500\u2500\u2500\u2500\u2500\u2500\u2500\u2500\u2500 + \u2500\u2500\u2500\u2500\u2500\u2500\u2500\u2500\u2500\u2500\u2500\u2500\u2500\u2500 = 0\n",
        "         m\u22c5\u03bb(t)               2           "
       ]
      }
     ],
     "prompt_number": 1
    },
    {
     "cell_type": "markdown",
     "metadata": {},
     "source": [
      "This is a differential equation in $\\lambda$, we will solve"
     ]
    },
    {
     "cell_type": "code",
     "collapsed": false,
     "input": [
      "sol=dsolve(eqn,lam); sol"
     ],
     "language": "python",
     "metadata": {},
     "outputs": [
      {
       "latex": [
        "$$\\lambda{\\left (t \\right )} = \\left(\\frac{1}{\\eta} \\left(C_{1} + \\frac{\\sqrt{2}}{2} S{\\left (t \\right )}\\right)\\right)^{m}$$"
       ],
       "metadata": {},
       "output_type": "pyout",
       "png": "[encoded data removed]",
       "prompt_number": 2,
       "text": [
        "                        m\n",
        "       \u239b       ___     \u239e \n",
        "       \u239c     \u2572\u2571 2 \u22c5S(t)\u239f \n",
        "       \u239cC\u2081 + \u2500\u2500\u2500\u2500\u2500\u2500\u2500\u2500\u2500\u2500\u239f \n",
        "       \u239c         2     \u239f \n",
        "\u03bb(t) = \u239c\u2500\u2500\u2500\u2500\u2500\u2500\u2500\u2500\u2500\u2500\u2500\u2500\u2500\u2500\u2500\u239f \n",
        "       \u239d       \u03b7       \u23a0 "
       ]
      }
     ],
     "prompt_number": 2
    },
    {
     "cell_type": "markdown",
     "metadata": {},
     "source": [
      "We know that at time $t=0$, $\\lambda = 0$.  Keep in mind that time $t = 0$ is also the onset of yield, so $S(0) = \\frac{Y}{2 \\mu}$ at that time, subsituting these in, we can solve for the integration constant $C_1$"
     ]
    },
    {
     "cell_type": "code",
     "collapsed": false,
     "input": [
      "solve(Eq((1 / eta * (C1 + sqrt(2) / 2 * Y / 2 / mu) ** m),0),C1)"
     ],
     "language": "python",
     "metadata": {},
     "outputs": [
      {
       "latex": [
        "$$\\begin{bmatrix}0^{\\frac{1}{m}} - \\frac{\\sqrt{2} Y}{4 \\mu}\\end{bmatrix}$$"
       ],
       "metadata": {},
       "output_type": "pyout",
       "png": "[encoded data removed]",
       "prompt_number": 3,
       "text": [
        "\u23a1          ___  \u23a4\n",
        "\u23a2m ___   \u2572\u2571 2 \u22c5Y\u23a5\n",
        "\u23a2\u2572\u2571 0  - \u2500\u2500\u2500\u2500\u2500\u2500\u2500\u23a5\n",
        "\u23a3          4\u22c5\u03bc  \u23a6"
       ]
      }
     ],
     "prompt_number": 3
    },
    {
     "cell_type": "markdown",
     "metadata": {},
     "source": [
      "If we assume that $m > 0$, the we can further simplify, plug in $C_1$ into the solution for $\\lambda$ and use the associated flow rule.  The final result is"
     ]
    },
    {
     "cell_type": "code",
     "collapsed": false,
     "input": [
      "epij = simplify(1 / eta * (- sqrt(2) * Y / 4 / mu + sqrt(2) / 2 * S) ** m * Qij); Eq(ep,epij)"
     ],
     "language": "python",
     "metadata": {},
     "outputs": [
      {
       "latex": [
        "$$\\varepsilon^{p}_{{ij}} = \\frac{Q_{{ij}}}{\\eta} \\left(\\frac{\\sqrt{2}}{4 \\mu} \\left(- Y + 2 \\mu S{\\left (t \\right )}\\right)\\right)^{m}$$"
       ],
       "metadata": {},
       "output_type": "pyout",
       "png": "[encoded data removed]",
       "prompt_number": 4,
       "text": [
        "                                                   m\n",
        "                            \u239b  ___                \u239e \n",
        "                            \u239c\u2572\u2571 2 \u22c5(-Y + 2\u22c5\u03bc\u22c5S(t))\u239f \n",
        "                     Q_{ij}\u22c5\u239c\u2500\u2500\u2500\u2500\u2500\u2500\u2500\u2500\u2500\u2500\u2500\u2500\u2500\u2500\u2500\u2500\u2500\u2500\u2500\u2500\u2500\u239f \n",
        "                            \u239d         4\u22c5\u03bc         \u23a0 \n",
        "varepsilon_{ij}__p = \u2500\u2500\u2500\u2500\u2500\u2500\u2500\u2500\u2500\u2500\u2500\u2500\u2500\u2500\u2500\u2500\u2500\u2500\u2500\u2500\u2500\u2500\u2500\u2500\u2500\u2500\u2500\u2500\u2500\u2500\u2500\n",
        "                                    \u03b7               "
       ]
      }
     ],
     "prompt_number": 4
    },
    {
     "cell_type": "markdown",
     "metadata": {},
     "source": [
      "## Problem 2\n",
      "\n",
      "A work-hardening plastic solid is assumed to obey the Mises-like yield criterion with isotropic hardening, that is, $f(\\boldsymbol{\\sigma}, \\boldsymbol{\\Lambda}) = \\sqrt{J_2} - k(\\varepsilon^p)$ and an associated flow rule. Show that\n",
      "\n",
      "$$\n",
      "\\dot{\\varepsilon}^p_{ij} = \\frac{\\sqrt{3} S_{ij} \\left(S_{kl} \\dot{S}_{kl}\\right)}{4 k^2 k'(\\varepsilon^p)}\n",
      "$$\n",
      "\n",
      "**Solution**"
     ]
    },
    {
     "cell_type": "markdown",
     "metadata": {},
     "source": [
      "Using the complementary conditions $\\dot{f} = 0$, we have:\n",
      "\n",
      "\n",
      "\\begin{align}\n",
      "  \\dot{f} &= \\frac{d}{dt}\\left(J_2 - k^2\\right) = 0 \\\\\n",
      "          &= \\frac{d}{dt}\\left(\\frac{1}{2} S_{kl} S_{kl} - k^2\\right) = 0 \\\\\n",
      "          &= \\left(\\dot{S}_{kl} S_{kl} - 2 k k' \\dot{\\varepsilon}^p \\right) = 0 \\\\\n",
      "\\end{align}"
     ]
    },
    {
     "cell_type": "markdown",
     "metadata": {},
     "source": [
      "Using the definition of equavalent plastic strain and the associated flow rule, $\\dot{\\varepsilon}^p_{ij} = \\dot\\lambda S_{ij}$\n",
      "\n",
      "\\begin{align}\n",
      "   \\dot{\\varepsilon}^p &= \\sqrt{\\frac{2}{3} \\varepsilon^p_{ij}\\varepsilon^p_{ij}} \\\\\n",
      "                       &= \\sqrt{\\frac{2}{3} \\dot{\\lambda} S_{ij} \\dot{\\lambda} S_{ij}} \\\\\n",
      "                       &= \\dot{\\lambda} \\sqrt{\\frac{2}{3} S_{ij} S_{ij}}\n",
      "\\end{align}\n",
      "\n",
      "Using the original yield function, we can infer $\\sqrt{S_{ij} S_{ij}} = \\sqrt{2} k$ so\n",
      "\n",
      "\\begin{align}\n",
      "   \\dot{\\varepsilon}^p &= \\frac{2 k \\dot{\\lambda}}{\\sqrt{3}}\n",
      "\\end{align}\n",
      "\n",
      "Substituting into the complementary condition above and solving for $\\dot\\lambda$, we have\n",
      "\n",
      "$$\n",
      "\\dot\\lambda = \\frac{\\sqrt{3} (S_{kl} \\dot{S}_{kl})}{4 k^2 k'(\\varepsilon^p)}\n",
      "$$\n",
      "\n",
      "using the associated flow rule\n",
      "\n",
      "$$\n",
      "\\dot\\varepsilon^p_{ij} = \\frac{\\sqrt{3} S_{ij} (S_{kl} \\dot{S}_{kl})}{4 k^2 k'(\\varepsilon^p)}\n",
      "$$"
     ]
    },
    {
     "cell_type": "markdown",
     "metadata": {},
     "source": [
      "## Problem 3\n",
      "\n",
      "We typically draw yield surfaces in the $\\Pi$-plane view, i.e. looking down the $\\sigma_I = \\sigma_{II} = \\sigma_{III}$ line; however, we can also take a meridional \"side\" view by projecting the three dimensional yield surface onto a 2 dimensional plane.  Perform this projection and plot both the von Mises and Tresca yield surfaces with an ordinate axis that cooresponds to the $\\sigma_{II} - \\sigma_{III}$ plane and an abscissa that corresponds to the $\\sigma_{I} - \\sigma_{III}$ plane.  Label the points that cross the axes with values that correspond to a yield stress $Y$.\n",
      "\n",
      "**Solution**\n",
      "\n"
     ]
    },
    {
     "cell_type": "code",
     "collapsed": false,
     "input": [
      "%matplotlib inline\n",
      "import numpy as np\n",
      "import matplotlib.pyplot as plt\n",
      "from matplotlib.patches import Ellipse, Polygon\n",
      "\n",
      "fig = plt.figure()\n",
      "ax = fig.add_subplot(111)\n",
      "ax.xaxis.label.set_size(20)\n",
      "ax.yaxis.label.set_size(20)\n",
      "ax.axhline(0, color='black', lw=1)\n",
      "ax.axvline(0, color='black', lw=1)\n",
      "ax.annotate('$Y$', xy=(0.55, -0.1),  xycoords='data', fontsize='15');\n",
      "ax.annotate('$Y$', xy=(-0.1, 0.5),  xycoords='data', fontsize='15');\n",
      "ax.annotate('$-Y$', xy=(0.02, -0.6),  xycoords='data', fontsize='15');\n",
      "ax.annotate('$-Y$', xy=(-0.65, 0.05),  xycoords='data', fontsize='15');\n",
      "ax.annotate('$\\sigma_I-\\sigma_{III}$', xy=(1.2, -0.1),  xycoords='data', fontsize='15');\n",
      "ax.annotate('$\\sigma_{II}-\\sigma_{III}$', xy=(0.01, 0.8),  xycoords='data', fontsize='15');\n",
      "mises = Ellipse(xy=(0, 0), width=0.8, height=1.7, \n",
      "                        edgecolor='r', fc='None', lw=2, angle=-45, label=\"Mises\")\n",
      "tresca = Polygon(xy=np.array([[0.5,0.0],\n",
      "                              [0.6,0.6],\n",
      "                              [0.0,0.5],\n",
      "                              [-0.5,0.0],\n",
      "                              [-0.6,-0.6],\n",
      "                              [0.0,-0.5]]), closed=True, fc='None', lw=2, label=\"Tresca\")\n",
      "ax.add_patch(mises)\n",
      "ax.add_patch(tresca)\n",
      "plt.axis('equal')\n",
      "plt.legend(handles=[mises, tresca],  loc=4)\n",
      "ax.axison = False\n",
      "plt.show()"
     ],
     "language": "python",
     "metadata": {},
     "outputs": [
      {
       "metadata": {},
       "output_type": "display_data",
       "png": "[encoded data removed]",
       "text": [
        "<matplotlib.figure.Figure at 0x10bb3fa10>"
       ]
      }
     ],
     "prompt_number": 5
    }
   ],
   "metadata": {}
  }
 ]
}